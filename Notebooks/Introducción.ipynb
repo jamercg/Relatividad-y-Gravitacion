{
  "nbformat": 4,
  "nbformat_minor": 0,
  "metadata": {
    "colab": {
      "provenance": [],
      "authorship_tag": "ABX9TyNGFKI/p2zoKn3UpIA8UVSh",
      "include_colab_link": true
    },
    "kernelspec": {
      "name": "python3",
      "display_name": "Python 3"
    },
    "language_info": {
      "name": "python"
    }
  },
  "cells": [
    {
      "cell_type": "markdown",
      "metadata": {
        "id": "view-in-github",
        "colab_type": "text"
      },
      "source": [
        "<a href=\"https://colab.research.google.com/github/jamercg/Relatividad-y-Gravitacion/blob/main/Notebooks/Introducci%C3%B3n.ipynb\" target=\"_parent\"><img src=\"https://colab.research.google.com/assets/colab-badge.svg\" alt=\"Open In Colab\"/></a>"
      ]
    },
    {
      "cell_type": "markdown",
      "source": [
        "Ejercicio 1.1\n",
        "Dado que en el marco parece inercial en el laboratorio esto no es cierto ya que por la rotación, la traslación de la Tierra y campos gravitacionales el marco terrestre no es inercial.\n",
        "Tomando como ejemplo el GPS donde se usan los satélites que orbitan la Tierra para poder obtener las ubicación en el laboratorio no se tiene en cuenta la rotación de la Tierra, cuando están en orbita si no se tiene en cuenta esto la las ubicaciones serían muy imprecisas. Para solucionar esto se toma en cuenta el **efecto Sagnac** ."
      ],
      "metadata": {
        "id": "wBAer1g23vgm"
      }
    },
    {
      "cell_type": "markdown",
      "source": [
        "Tomando un ejemplo. Cuando dos haces luz recorren un camino cerrado en direcciones opuestas sobre una plataforma rotatoria, llegan al punto de encuentro en tiempos distintos si el sistema está rotando. Esto es una prueba clave de los efectos de la relatividad especial."
      ],
      "metadata": {
        "id": "0uf4HS7U-feN"
      }
    },
    {
      "cell_type": "code",
      "execution_count": 3,
      "metadata": {
        "colab": {
          "base_uri": "https://localhost:8080/"
        },
        "id": "UagVV00deTp5",
        "outputId": "c8615bd0-4f7a-47e3-91e7-e61af47ede6d"
      },
      "outputs": [
        {
          "output_type": "stream",
          "name": "stdout",
          "text": [
            "Δt: 1.02e-20 s\n",
            "Δl: 3.06e-12 m\n"
          ]
        }
      ],
      "source": [
        "import numpy as np\n",
        "\n",
        "#deltat= (4*A*omega)/c**2\n",
        "#A -- Area del anillo recorrido por la luz\n",
        "\n",
        "c = 299_792_458  # m/s\n",
        "R = 1.0  #m\n",
        "A = np.pi * R**2  #m²\n",
        "\n",
        "# Velocidad angular de la Tierra\n",
        "omega= 7.2921159e-5  # rad/s\n",
        "\n",
        "# Desfase temporal por efecto Sagnac\n",
        "deltat = (4 * A * omega) / c**2\n",
        "\n",
        "# Diferencia de la distancia\n",
        "deltal = c * deltat  # distancia efectiva de diferencia entre haces\n",
        "\n",
        "print(f\"Δt: {deltat:.2e} s\")\n",
        "print(f\"Δl: {deltal:.2e} m\")"
      ]
    }
  ]
}